{
 "cells": [
  {
   "cell_type": "code",
   "execution_count": null,
   "metadata": {},
   "outputs": [],
   "source": [
    "\n",
    "\n",
    "class Parking_Garage():\n",
    "\n",
    "    def __init__(self, ticket_list = list(range(1,10)), parking_list, currentTicket):\n",
    "        self.ticket_list = ticket_list\n",
    "        self.parking_list = parking_list\n",
    "        self.currentTicket = dict()\n",
    "\n",
    "\n",
    "    def parking_options(self, park, pay, leave):\n",
    "        print(\"What would you like to do? Pay/Park/Leave? \")\n",
    "        print(\"These are the tickets {} available\".format(len(ticket_list))\n",
    "        \n",
    "        if options == \"park\":\n",
    "            user_ticket = str(input(f\"Take a number: {self.ticket_list}\"))\n",
    "            ticket_list.remove(user_ticket)\n",
    "            return ticket_number, \"Small\"\n",
    "        elif user_ticket.lower() == \"pay\":\n",
    "            ticket_number = random.choice(medium_tickets)\n",
    "            return ticket_number, \"Medium\"\n",
    "        elif user_ticket.lower() == \"leave\":\n",
    "            ticket_number = random.choice(large_tickets)\n",
    "            return ticket_number, \"Large\"\n",
    "        else:\n",
    "            print(\"Invalid input\")"
   ]
  },
  {
   "cell_type": "code",
   "execution_count": 74,
   "metadata": {},
   "outputs": [
    {
     "name": "stdout",
     "output_type": "stream",
     "text": [
      "(This is your parking ticket. Please do not lose your ticket! {2: 'NOT PAID'})\n"
     ]
    },
    {
     "ename": "KeyboardInterrupt",
     "evalue": "Interrupted by user",
     "output_type": "error",
     "traceback": [
      "\u001b[1;31m---------------------------------------------------------------------------\u001b[0m",
      "\u001b[1;31mKeyboardInterrupt\u001b[0m                         Traceback (most recent call last)",
      "\u001b[1;32m<ipython-input-74-13c39771135a>\u001b[0m in \u001b[0;36m<module>\u001b[1;34m\u001b[0m\n\u001b[0;32m     67\u001b[0m \u001b[1;33m\u001b[0m\u001b[0m\n\u001b[0;32m     68\u001b[0m \u001b[0ma\u001b[0m \u001b[1;33m=\u001b[0m \u001b[0mParking_Garage\u001b[0m\u001b[1;33m(\u001b[0m\u001b[1;33m)\u001b[0m\u001b[1;33m\u001b[0m\u001b[1;33m\u001b[0m\u001b[0m\n\u001b[1;32m---> 69\u001b[1;33m \u001b[0ma\u001b[0m\u001b[1;33m.\u001b[0m\u001b[0mstart_garage\u001b[0m\u001b[1;33m(\u001b[0m\u001b[1;33m)\u001b[0m\u001b[1;33m\u001b[0m\u001b[1;33m\u001b[0m\u001b[0m\n\u001b[0m",
      "\u001b[1;32m<ipython-input-74-13c39771135a>\u001b[0m in \u001b[0;36mstart_garage\u001b[1;34m(self)\u001b[0m\n\u001b[0;32m     59\u001b[0m             \u001b[0mprint\u001b[0m\u001b[1;33m(\u001b[0m\u001b[1;34m\"These are the tickets/parking spots {} available\"\u001b[0m\u001b[1;33m.\u001b[0m\u001b[0mformat\u001b[0m\u001b[1;33m(\u001b[0m\u001b[0mself\u001b[0m\u001b[1;33m.\u001b[0m\u001b[0mticket_list\u001b[0m\u001b[1;33m)\u001b[0m\u001b[1;33m)\u001b[0m\u001b[1;33m\u001b[0m\u001b[1;33m\u001b[0m\u001b[0m\n\u001b[0;32m     60\u001b[0m             \u001b[1;32mwhile\u001b[0m \u001b[1;32mTrue\u001b[0m\u001b[1;33m:\u001b[0m\u001b[1;33m\u001b[0m\u001b[1;33m\u001b[0m\u001b[0m\n\u001b[1;32m---> 61\u001b[1;33m                 \u001b[0mself\u001b[0m\u001b[1;33m.\u001b[0m\u001b[0mparking_Options\u001b[0m\u001b[1;33m(\u001b[0m\u001b[1;33m)\u001b[0m\u001b[1;33m\u001b[0m\u001b[1;33m\u001b[0m\u001b[0m\n\u001b[0m\u001b[0;32m     62\u001b[0m \u001b[1;33m\u001b[0m\u001b[0m\n\u001b[0;32m     63\u001b[0m \u001b[1;33m\u001b[0m\u001b[0m\n",
      "\u001b[1;32m<ipython-input-74-13c39771135a>\u001b[0m in \u001b[0;36mparking_Options\u001b[1;34m(self)\u001b[0m\n\u001b[0;32m     44\u001b[0m \u001b[1;33m\u001b[0m\u001b[0m\n\u001b[0;32m     45\u001b[0m     \u001b[1;32mdef\u001b[0m \u001b[0mparking_Options\u001b[0m\u001b[1;33m(\u001b[0m\u001b[0mself\u001b[0m\u001b[1;33m)\u001b[0m\u001b[1;33m:\u001b[0m\u001b[1;33m\u001b[0m\u001b[1;33m\u001b[0m\u001b[0m\n\u001b[1;32m---> 46\u001b[1;33m         \u001b[0moptions\u001b[0m \u001b[1;33m=\u001b[0m \u001b[0minput\u001b[0m\u001b[1;33m(\u001b[0m\u001b[1;34m\"What would you like to do? Pay/Park/Leave? \"\u001b[0m\u001b[1;33m)\u001b[0m\u001b[1;33m\u001b[0m\u001b[1;33m\u001b[0m\u001b[0m\n\u001b[0m\u001b[0;32m     47\u001b[0m         \u001b[1;32mif\u001b[0m \u001b[0moptions\u001b[0m\u001b[1;33m.\u001b[0m\u001b[0mlower\u001b[0m\u001b[1;33m(\u001b[0m\u001b[1;33m)\u001b[0m \u001b[1;33m==\u001b[0m \u001b[1;34m\"park\"\u001b[0m\u001b[1;33m:\u001b[0m\u001b[1;33m\u001b[0m\u001b[1;33m\u001b[0m\u001b[0m\n\u001b[0;32m     48\u001b[0m             \u001b[0mself\u001b[0m\u001b[1;33m.\u001b[0m\u001b[0mtakeTicket\u001b[0m\u001b[1;33m(\u001b[0m\u001b[1;33m)\u001b[0m\u001b[1;33m\u001b[0m\u001b[1;33m\u001b[0m\u001b[0m\n",
      "\u001b[1;32m~\\anaconda3\\lib\\site-packages\\ipykernel\\kernelbase.py\u001b[0m in \u001b[0;36mraw_input\u001b[1;34m(self, prompt)\u001b[0m\n\u001b[0;32m    858\u001b[0m                 \u001b[1;34m\"raw_input was called, but this frontend does not support input requests.\"\u001b[0m\u001b[1;33m\u001b[0m\u001b[1;33m\u001b[0m\u001b[0m\n\u001b[0;32m    859\u001b[0m             )\n\u001b[1;32m--> 860\u001b[1;33m         return self._input_request(str(prompt),\n\u001b[0m\u001b[0;32m    861\u001b[0m             \u001b[0mself\u001b[0m\u001b[1;33m.\u001b[0m\u001b[0m_parent_ident\u001b[0m\u001b[1;33m,\u001b[0m\u001b[1;33m\u001b[0m\u001b[1;33m\u001b[0m\u001b[0m\n\u001b[0;32m    862\u001b[0m             \u001b[0mself\u001b[0m\u001b[1;33m.\u001b[0m\u001b[0m_parent_header\u001b[0m\u001b[1;33m,\u001b[0m\u001b[1;33m\u001b[0m\u001b[1;33m\u001b[0m\u001b[0m\n",
      "\u001b[1;32m~\\anaconda3\\lib\\site-packages\\ipykernel\\kernelbase.py\u001b[0m in \u001b[0;36m_input_request\u001b[1;34m(self, prompt, ident, parent, password)\u001b[0m\n\u001b[0;32m    902\u001b[0m             \u001b[1;32mexcept\u001b[0m \u001b[0mKeyboardInterrupt\u001b[0m\u001b[1;33m:\u001b[0m\u001b[1;33m\u001b[0m\u001b[1;33m\u001b[0m\u001b[0m\n\u001b[0;32m    903\u001b[0m                 \u001b[1;31m# re-raise KeyboardInterrupt, to truncate traceback\u001b[0m\u001b[1;33m\u001b[0m\u001b[1;33m\u001b[0m\u001b[1;33m\u001b[0m\u001b[0m\n\u001b[1;32m--> 904\u001b[1;33m                 \u001b[1;32mraise\u001b[0m \u001b[0mKeyboardInterrupt\u001b[0m\u001b[1;33m(\u001b[0m\u001b[1;34m\"Interrupted by user\"\u001b[0m\u001b[1;33m)\u001b[0m \u001b[1;32mfrom\u001b[0m \u001b[1;32mNone\u001b[0m\u001b[1;33m\u001b[0m\u001b[1;33m\u001b[0m\u001b[0m\n\u001b[0m\u001b[0;32m    905\u001b[0m             \u001b[1;32mexcept\u001b[0m \u001b[0mException\u001b[0m \u001b[1;32mas\u001b[0m \u001b[0me\u001b[0m\u001b[1;33m:\u001b[0m\u001b[1;33m\u001b[0m\u001b[1;33m\u001b[0m\u001b[0m\n\u001b[0;32m    906\u001b[0m                 \u001b[0mself\u001b[0m\u001b[1;33m.\u001b[0m\u001b[0mlog\u001b[0m\u001b[1;33m.\u001b[0m\u001b[0mwarning\u001b[0m\u001b[1;33m(\u001b[0m\u001b[1;34m\"Invalid Message:\"\u001b[0m\u001b[1;33m,\u001b[0m \u001b[0mexc_info\u001b[0m\u001b[1;33m=\u001b[0m\u001b[1;32mTrue\u001b[0m\u001b[1;33m)\u001b[0m\u001b[1;33m\u001b[0m\u001b[1;33m\u001b[0m\u001b[0m\n",
      "\u001b[1;31mKeyboardInterrupt\u001b[0m: Interrupted by user"
     ]
    }
   ],
   "source": [
    "from IPython.display import clear_output as clear\n",
    "\n",
    "class Parking_Garage():\n",
    "\n",
    "    def __init__(self, ticket_list = list(range(1,11)), parking_list = list(range(1,11)), current_ticket = {}):\n",
    "        self.ticket_list = ticket_list\n",
    "        self.parking_list = parking_list\n",
    "        self.current_ticket = current_ticket\n",
    "                \n",
    "    def takeTicket(self):\n",
    "        if len(self.ticket_list) < 1:\n",
    "            print('Sorry, this parking garage is full!')\n",
    "            return\n",
    "        else:\n",
    "            user_ticket = int(input(f\"Take a number: {self.ticket_list}\"))\n",
    "            self.ticket_list.remove(user_ticket)\n",
    "            self.current_ticket.update({user_ticket: 'NOT PAID'})\n",
    "            clear()\n",
    "            print(f\"(This is your parking ticket. Please do not lose your ticket! {self.current_ticket})\")\n",
    "            \n",
    "        \n",
    "    def pay_Ticket(self):\n",
    "        user_payment = int(input(f\"Please enter your ticket number: \"))\n",
    "        if user_payment in self.current_ticket:\n",
    "            self.current_ticket.update({user_payment: 'PAID'})\n",
    "            print(f\"(Thank you for your payment. Use this updated ticket to leave the garage. {self.current_ticket})\")\n",
    "        else:\n",
    "            print('You currently do not own that ticket. Please enter the garage and obtain a ticket.')\n",
    "    \n",
    "    def leave_Garage(self):\n",
    "        user_exit = int(input(f'Please enter your ticket number: '))\n",
    "        ticket_check = self.current_ticket.get(user_exit)\n",
    "        \n",
    "        if ticket_check == None:\n",
    "            print(\"You currently do not own that ticket. Please enter your ticket number to leave or enter the garage to obtain a ticket.\")\n",
    "            self.takeTicket\n",
    "        elif ticket_check.lower() == \"paid\":\n",
    "            print('Thank you for visiting. Have a nice day!')\n",
    "        elif ticket_check.lower() == \"not paid\":\n",
    "            print('You have not paid for your parking ticket. Please do not forget to pay for your parking ticket!')\n",
    "            self.takeTicket()\n",
    "        else:\n",
    "            print('You currently do not own that ticket. Please enter the garage and obtain a ticket.')\n",
    "            \n",
    "    def parking_Options(self):\n",
    "        options = input(\"What would you like to do? Pay/Park/Leave? \")\n",
    "        if options.lower() == \"park\":\n",
    "            self.takeTicket()\n",
    "        elif options.lower() == \"pay\":\n",
    "            self.pay_Ticket()\n",
    "        elif options.lower() == \"leave\":\n",
    "            self.leave_Garage()\n",
    "        elif options.lower() not in ('pay', 'park', 'leave'):\n",
    "            print(\"Invalid Choice\")\n",
    "            clear()\n",
    "            \n",
    "    def start_garage(self):\n",
    "            print(\"These are the tickets/parking spots {} available\".format(self.ticket_list))\n",
    "            while True:\n",
    "                self.parking_Options()         \n",
    "          \n",
    "        \n",
    "a = Parking_Garage()\n",
    "a.start_garage()"
   ]
  },
  {
   "cell_type": "code",
   "execution_count": 30,
   "metadata": {},
   "outputs": [
    {
     "name": "stdout",
     "output_type": "stream",
     "text": [
      "This is how many spaces are left: [1, 2, 3, 4, 5, 6, 7, 8, 9, 10]\n",
      "[1, 2, 3, 4, 5, 6, 7, 8, 9, 10]\n"
     ]
    }
   ],
   "source": [
    "# x = list(range(1,11))\n",
    "# print('This is how many spaces are left:', (x))\n",
    "\n",
    "# input was ticket # 5\n",
    "\n",
    "# user_ticket = 5\n",
    "\n",
    "# del(ticket_list[user_ticket-1])\n",
    "\n",
    "# del(x[1])\n",
    "\n",
    "# x.insert(1, 2)\n",
    "\n",
    "# print(x)"
   ]
  },
  {
   "cell_type": "code",
   "execution_count": 9,
   "metadata": {
    "scrolled": true
   },
   "outputs": [
    {
     "name": "stdout",
     "output_type": "stream",
     "text": [
      "None\n"
     ]
    }
   ],
   "source": []
  },
  {
   "cell_type": "code",
   "execution_count": null,
   "metadata": {},
   "outputs": [],
   "source": []
  }
 ],
 "metadata": {
  "kernelspec": {
   "display_name": "Python 3",
   "language": "python",
   "name": "python3"
  },
  "language_info": {
   "codemirror_mode": {
    "name": "ipython",
    "version": 3
   },
   "file_extension": ".py",
   "mimetype": "text/x-python",
   "name": "python",
   "nbconvert_exporter": "python",
   "pygments_lexer": "ipython3",
   "version": "3.8.5"
  }
 },
 "nbformat": 4,
 "nbformat_minor": 4
}
